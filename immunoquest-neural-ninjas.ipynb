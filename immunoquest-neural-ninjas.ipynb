{
 "cells": [
  {
   "cell_type": "code",
   "execution_count": 1,
   "id": "a22513e2",
   "metadata": {
    "_cell_guid": "b1076dfc-b9ad-4769-8c92-a6c4dae69d19",
    "_uuid": "8f2839f25d086af736a60e9eeb907d3b93b6e0e5",
    "execution": {
     "iopub.execute_input": "2025-02-15T09:03:43.218964Z",
     "iopub.status.busy": "2025-02-15T09:03:43.215953Z",
     "iopub.status.idle": "2025-02-15T09:03:43.223524Z",
     "shell.execute_reply": "2025-02-15T09:03:43.222627Z"
    },
    "jupyter": {
     "source_hidden": true
    },
    "papermill": {
     "duration": 0.019219,
     "end_time": "2025-02-15T09:03:43.224838",
     "exception": false,
     "start_time": "2025-02-15T09:03:43.205619",
     "status": "completed"
    },
    "tags": []
   },
   "outputs": [],
   "source": [
    "# import numpy as np\n",
    "# import pandas as pd\n",
    "\n",
    "# import os\n",
    "# for dirname, _, filenames in os.walk('/kaggle/input/immunoquest1/Dataset/Dataset/'):\n",
    "#     for filename in filenames:\n",
    "#         print(os.path.join(dirname, filename))\n"
   ]
  },
  {
   "cell_type": "code",
   "execution_count": 2,
   "id": "4d2d6b4c",
   "metadata": {
    "execution": {
     "iopub.execute_input": "2025-02-15T09:03:43.238863Z",
     "iopub.status.busy": "2025-02-15T09:03:43.238602Z",
     "iopub.status.idle": "2025-02-15T09:03:52.621293Z",
     "shell.execute_reply": "2025-02-15T09:03:52.620655Z"
    },
    "papermill": {
     "duration": 9.392311,
     "end_time": "2025-02-15T09:03:52.622815",
     "exception": false,
     "start_time": "2025-02-15T09:03:43.230504",
     "status": "completed"
    },
    "tags": []
   },
   "outputs": [],
   "source": [
    "import numpy as np\n",
    "import pandas as pd\n",
    "import torch\n",
    "from torchvision.transforms import transforms\n",
    "from torchvision.datasets import ImageFolder\n",
    "import torch.optim as optim\n",
    "import torch.nn as nn\n",
    "from torch.utils.data import DataLoader\n",
    "from torchvision import models\n",
    "from PIL import Image\n",
    "from sklearn.metrics import f1_score, classification_report, confusion_matrix\n",
    "import matplotlib.pyplot as plt\n",
    "import seaborn as sns"
   ]
  },
  {
   "cell_type": "code",
   "execution_count": 3,
   "id": "22fc7026",
   "metadata": {
    "execution": {
     "iopub.execute_input": "2025-02-15T09:03:52.632288Z",
     "iopub.status.busy": "2025-02-15T09:03:52.631982Z",
     "iopub.status.idle": "2025-02-15T09:03:52.634903Z",
     "shell.execute_reply": "2025-02-15T09:03:52.634301Z"
    },
    "papermill": {
     "duration": 0.008811,
     "end_time": "2025-02-15T09:03:52.636045",
     "exception": false,
     "start_time": "2025-02-15T09:03:52.627234",
     "status": "completed"
    },
    "tags": []
   },
   "outputs": [],
   "source": [
    "train_dir = \"/kaggle/input/immunoquest1/Dataset/Dataset/train/\"\n",
    "val_dir = \"/kaggle/input/immunoquest1/Dataset/Dataset/val/\""
   ]
  },
  {
   "cell_type": "code",
   "execution_count": 4,
   "id": "17f855ee",
   "metadata": {
    "execution": {
     "iopub.execute_input": "2025-02-15T09:03:52.645081Z",
     "iopub.status.busy": "2025-02-15T09:03:52.644887Z",
     "iopub.status.idle": "2025-02-15T09:03:52.648469Z",
     "shell.execute_reply": "2025-02-15T09:03:52.647875Z"
    },
    "papermill": {
     "duration": 0.00923,
     "end_time": "2025-02-15T09:03:52.649611",
     "exception": false,
     "start_time": "2025-02-15T09:03:52.640381",
     "status": "completed"
    },
    "tags": []
   },
   "outputs": [],
   "source": [
    "transform = transforms.Compose([\n",
    "    transforms.RandomResizedCrop((224,224)),\n",
    "    transforms.RandomHorizontalFlip(),\n",
    "    transforms.RandomRotation(10),\n",
    "    transforms.ToTensor(),\n",
    "    transforms.Normalize(mean=[0.485, 0.456, 0.406], std=[0.229,0.224,0.225])\n",
    "])"
   ]
  },
  {
   "cell_type": "code",
   "execution_count": 5,
   "id": "4c6ce3a6",
   "metadata": {
    "execution": {
     "iopub.execute_input": "2025-02-15T09:03:52.658353Z",
     "iopub.status.busy": "2025-02-15T09:03:52.658141Z",
     "iopub.status.idle": "2025-02-15T09:03:56.340308Z",
     "shell.execute_reply": "2025-02-15T09:03:56.339336Z"
    },
    "papermill": {
     "duration": 3.688364,
     "end_time": "2025-02-15T09:03:56.342034",
     "exception": false,
     "start_time": "2025-02-15T09:03:52.653670",
     "status": "completed"
    },
    "tags": []
   },
   "outputs": [],
   "source": [
    "train_dataset = ImageFolder(root=train_dir, transform=transform)\n",
    "val_dataset = ImageFolder(root=val_dir, transform=transform)"
   ]
  },
  {
   "cell_type": "code",
   "execution_count": 6,
   "id": "d4bd235d",
   "metadata": {
    "execution": {
     "iopub.execute_input": "2025-02-15T09:03:56.352208Z",
     "iopub.status.busy": "2025-02-15T09:03:56.351940Z",
     "iopub.status.idle": "2025-02-15T09:03:56.355931Z",
     "shell.execute_reply": "2025-02-15T09:03:56.355206Z"
    },
    "papermill": {
     "duration": 0.010209,
     "end_time": "2025-02-15T09:03:56.357152",
     "exception": false,
     "start_time": "2025-02-15T09:03:56.346943",
     "status": "completed"
    },
    "tags": []
   },
   "outputs": [],
   "source": [
    "batch_size=64\n",
    "train_loader = DataLoader(train_dataset,batch_size=batch_size,shuffle=True,num_workers=4)\n",
    "val_loader = DataLoader(val_dataset,batch_size=batch_size,shuffle=True,num_workers=4)"
   ]
  },
  {
   "cell_type": "code",
   "execution_count": 7,
   "id": "e2463cc1",
   "metadata": {
    "execution": {
     "iopub.execute_input": "2025-02-15T09:03:56.366442Z",
     "iopub.status.busy": "2025-02-15T09:03:56.366211Z",
     "iopub.status.idle": "2025-02-15T09:03:57.750558Z",
     "shell.execute_reply": "2025-02-15T09:03:57.749810Z"
    },
    "papermill": {
     "duration": 1.390607,
     "end_time": "2025-02-15T09:03:57.752165",
     "exception": false,
     "start_time": "2025-02-15T09:03:56.361558",
     "status": "completed"
    },
    "tags": []
   },
   "outputs": [
    {
     "name": "stderr",
     "output_type": "stream",
     "text": [
      "/usr/local/lib/python3.10/dist-packages/torchvision/models/_utils.py:208: UserWarning: The parameter 'pretrained' is deprecated since 0.13 and may be removed in the future, please use 'weights' instead.\n",
      "  warnings.warn(\n",
      "/usr/local/lib/python3.10/dist-packages/torchvision/models/_utils.py:223: UserWarning: Arguments other than a weight enum or `None` for 'weights' are deprecated since 0.13 and may be removed in the future. The current behavior is equivalent to passing `weights=ResNet50_Weights.IMAGENET1K_V1`. You can also use `weights=ResNet50_Weights.DEFAULT` to get the most up-to-date weights.\n",
      "  warnings.warn(msg)\n",
      "Downloading: \"https://download.pytorch.org/models/resnet50-0676ba61.pth\" to /root/.cache/torch/hub/checkpoints/resnet50-0676ba61.pth\n",
      "100%|██████████| 97.8M/97.8M [00:00<00:00, 175MB/s]\n"
     ]
    }
   ],
   "source": [
    "device = torch.device(\"cuda\" if torch.cuda.is_available() else \"cpu\")\n",
    "model = models.resnet50(pretrained=True)"
   ]
  },
  {
   "cell_type": "code",
   "execution_count": 8,
   "id": "146f1b21",
   "metadata": {
    "execution": {
     "iopub.execute_input": "2025-02-15T09:03:57.765338Z",
     "iopub.status.busy": "2025-02-15T09:03:57.765080Z",
     "iopub.status.idle": "2025-02-15T09:03:57.769110Z",
     "shell.execute_reply": "2025-02-15T09:03:57.768474Z"
    },
    "papermill": {
     "duration": 0.011413,
     "end_time": "2025-02-15T09:03:57.770429",
     "exception": false,
     "start_time": "2025-02-15T09:03:57.759016",
     "status": "completed"
    },
    "tags": []
   },
   "outputs": [],
   "source": [
    "num_ftrs = model.fc.in_features\n",
    "model.fc = nn.Linear(num_ftrs, 5)"
   ]
  },
  {
   "cell_type": "code",
   "execution_count": 9,
   "id": "8881a576",
   "metadata": {
    "execution": {
     "iopub.execute_input": "2025-02-15T09:03:57.780650Z",
     "iopub.status.busy": "2025-02-15T09:03:57.780388Z",
     "iopub.status.idle": "2025-02-15T09:03:58.024238Z",
     "shell.execute_reply": "2025-02-15T09:03:58.023568Z"
    },
    "papermill": {
     "duration": 0.250574,
     "end_time": "2025-02-15T09:03:58.025634",
     "exception": false,
     "start_time": "2025-02-15T09:03:57.775060",
     "status": "completed"
    },
    "tags": []
   },
   "outputs": [
    {
     "name": "stdout",
     "output_type": "stream",
     "text": [
      "Using 2 GPUs!\n"
     ]
    }
   ],
   "source": [
    "if torch.cuda.device_count() > 1:\n",
    "    print(f\"Using {torch.cuda.device_count()} GPUs!\")\n",
    "    model = nn.DataParallel(model)\n",
    "\n",
    "model = model.to(device)"
   ]
  },
  {
   "cell_type": "code",
   "execution_count": 10,
   "id": "a6191444",
   "metadata": {
    "execution": {
     "iopub.execute_input": "2025-02-15T09:03:58.036324Z",
     "iopub.status.busy": "2025-02-15T09:03:58.036108Z",
     "iopub.status.idle": "2025-02-15T09:03:58.040337Z",
     "shell.execute_reply": "2025-02-15T09:03:58.039723Z"
    },
    "papermill": {
     "duration": 0.010886,
     "end_time": "2025-02-15T09:03:58.041633",
     "exception": false,
     "start_time": "2025-02-15T09:03:58.030747",
     "status": "completed"
    },
    "tags": []
   },
   "outputs": [],
   "source": [
    "criterion = nn.CrossEntropyLoss()\n",
    "optimizer = optim.AdamW(model.parameters(), lr = 0.0005, weight_decay=1e-4)\n",
    "scheduler = optim.lr_scheduler.StepLR(optimizer, step_size=5, gamma=0.5)"
   ]
  },
  {
   "cell_type": "code",
   "execution_count": 11,
   "id": "5c1f5104",
   "metadata": {
    "execution": {
     "iopub.execute_input": "2025-02-15T09:03:58.052542Z",
     "iopub.status.busy": "2025-02-15T09:03:58.052287Z",
     "iopub.status.idle": "2025-02-15T09:03:58.055170Z",
     "shell.execute_reply": "2025-02-15T09:03:58.054582Z"
    },
    "papermill": {
     "duration": 0.009477,
     "end_time": "2025-02-15T09:03:58.056229",
     "exception": false,
     "start_time": "2025-02-15T09:03:58.046752",
     "status": "completed"
    },
    "tags": []
   },
   "outputs": [],
   "source": [
    "num_epochs = 20\n",
    "epoch_loss = []\n",
    "epoch_accuracy = []"
   ]
  },
  {
   "cell_type": "code",
   "execution_count": 12,
   "id": "ffb59989",
   "metadata": {
    "execution": {
     "iopub.execute_input": "2025-02-15T09:03:58.066893Z",
     "iopub.status.busy": "2025-02-15T09:03:58.066689Z",
     "iopub.status.idle": "2025-02-15T09:12:24.794437Z",
     "shell.execute_reply": "2025-02-15T09:12:24.793420Z"
    },
    "papermill": {
     "duration": 506.740058,
     "end_time": "2025-02-15T09:12:24.801230",
     "exception": false,
     "start_time": "2025-02-15T09:03:58.061172",
     "status": "completed"
    },
    "tags": []
   },
   "outputs": [
    {
     "name": "stdout",
     "output_type": "stream",
     "text": [
      "Epoch 1/20, Loss:0.6744, Macro F1_Score: 0.7687\n",
      "Epoch 2/20, Loss:0.3985, Macro F1_Score: 0.8674\n",
      "Epoch 3/20, Loss:0.3728, Macro F1_Score: 0.8730\n",
      "Epoch 4/20, Loss:0.3073, Macro F1_Score: 0.8968\n",
      "Epoch 5/20, Loss:0.2747, Macro F1_Score: 0.9085\n",
      "Epoch 6/20, Loss:0.2020, Macro F1_Score: 0.9331\n",
      "Epoch 7/20, Loss:0.1527, Macro F1_Score: 0.9498\n",
      "Epoch 8/20, Loss:0.1421, Macro F1_Score: 0.9488\n",
      "Epoch 9/20, Loss:0.1574, Macro F1_Score: 0.9479\n",
      "Epoch 10/20, Loss:0.1609, Macro F1_Score: 0.9437\n",
      "Epoch 11/20, Loss:0.1341, Macro F1_Score: 0.9550\n",
      "Epoch 12/20, Loss:0.1180, Macro F1_Score: 0.9587\n",
      "Epoch 13/20, Loss:0.1199, Macro F1_Score: 0.9575\n",
      "Epoch 14/20, Loss:0.1228, Macro F1_Score: 0.9581\n",
      "Epoch 15/20, Loss:0.1178, Macro F1_Score: 0.9587\n",
      "Epoch 16/20, Loss:0.0990, Macro F1_Score: 0.9666\n",
      "Epoch 17/20, Loss:0.0929, Macro F1_Score: 0.9661\n",
      "Epoch 18/20, Loss:0.0953, Macro F1_Score: 0.9657\n",
      "Epoch 19/20, Loss:0.0907, Macro F1_Score: 0.9705\n",
      "Epoch 20/20, Loss:0.0875, Macro F1_Score: 0.9706\n",
      "Training Completed\n"
     ]
    }
   ],
   "source": [
    "for epoch in range(num_epochs):\n",
    "    model.train()\n",
    "    running_loss = 0.0\n",
    "    y_true, y_pred = [], []\n",
    "\n",
    "    for images, labels in train_loader:\n",
    "        images, labels = images.to(device), labels.to(device)\n",
    "\n",
    "        optimizer.zero_grad()\n",
    "        outputs = model(images)\n",
    "        loss = criterion(outputs, labels)\n",
    "        loss.backward()\n",
    "        optimizer.step()\n",
    "\n",
    "        running_loss += loss.item()\n",
    "\n",
    "        _, predicted = torch.max(outputs,1)\n",
    "        y_true.extend(labels.cpu().numpy())\n",
    "        y_pred.extend(predicted.cpu().numpy())\n",
    "\n",
    "    f1 = f1_score(y_true, y_pred, average='macro')\n",
    "\n",
    "    epoch_loss.append(running_loss/len(train_loader))\n",
    "    epoch_accuracy.append(f1)\n",
    "    scheduler.step()\n",
    "\n",
    "    print(f\"Epoch {epoch+1}/{num_epochs}, Loss:{running_loss/len(train_loader):.4f}, Macro F1_Score: {f1:.4f}\")\n",
    "\n",
    "print(\"Training Completed\")"
   ]
  },
  {
   "cell_type": "code",
   "execution_count": 13,
   "id": "c3f2faad",
   "metadata": {
    "execution": {
     "iopub.execute_input": "2025-02-15T09:12:24.813636Z",
     "iopub.status.busy": "2025-02-15T09:12:24.813358Z",
     "iopub.status.idle": "2025-02-15T09:12:27.019582Z",
     "shell.execute_reply": "2025-02-15T09:12:27.018226Z"
    },
    "papermill": {
     "duration": 2.214738,
     "end_time": "2025-02-15T09:12:27.021794",
     "exception": false,
     "start_time": "2025-02-15T09:12:24.807056",
     "status": "completed"
    },
    "tags": []
   },
   "outputs": [
    {
     "name": "stdout",
     "output_type": "stream",
     "text": [
      "Test F1 Score: 0.9660\n"
     ]
    }
   ],
   "source": [
    "model.eval()\n",
    "y_true, y_pred = [], []\n",
    "\n",
    "with torch.no_grad():\n",
    "    for images, labels in val_loader:\n",
    "        images, labels = images.to(device), labels.to(device)\n",
    "        outputs = model(images)\n",
    "        \n",
    "        _, predicted = torch.max(outputs,1)\n",
    "        y_true.extend(labels.cpu().numpy())\n",
    "        y_pred.extend(predicted.cpu().numpy())\n",
    "\n",
    "        test_f1 = f1_score(y_true, y_pred, average='macro')\n",
    "print(f\"Test F1 Score: {test_f1:.4f}\")"
   ]
  },
  {
   "cell_type": "code",
   "execution_count": 14,
   "id": "d0b6cfc2",
   "metadata": {
    "execution": {
     "iopub.execute_input": "2025-02-15T09:12:27.041746Z",
     "iopub.status.busy": "2025-02-15T09:12:27.041264Z",
     "iopub.status.idle": "2025-02-15T09:12:27.056605Z",
     "shell.execute_reply": "2025-02-15T09:12:27.055640Z"
    },
    "papermill": {
     "duration": 0.029465,
     "end_time": "2025-02-15T09:12:27.058102",
     "exception": false,
     "start_time": "2025-02-15T09:12:27.028637",
     "status": "completed"
    },
    "tags": []
   },
   "outputs": [
    {
     "name": "stdout",
     "output_type": "stream",
     "text": [
      "Classification Report:\n",
      "              precision    recall  f1-score   support\n",
      "\n",
      "        baso       1.00      0.99      1.00       101\n",
      "        eosi       0.99      0.96      0.97        96\n",
      "        lymp       0.89      0.97      0.93       100\n",
      "        mono       0.97      0.93      0.95        99\n",
      "        neut       0.99      0.98      0.98       100\n",
      "\n",
      "    accuracy                           0.97       496\n",
      "   macro avg       0.97      0.97      0.97       496\n",
      "weighted avg       0.97      0.97      0.97       496\n",
      "\n"
     ]
    }
   ],
   "source": [
    "print(\"Classification Report:\")\n",
    "print(classification_report(y_true,y_pred,target_names=train_dataset.classes))"
   ]
  },
  {
   "cell_type": "code",
   "execution_count": 15,
   "id": "08dd0475",
   "metadata": {
    "execution": {
     "iopub.execute_input": "2025-02-15T09:12:27.075130Z",
     "iopub.status.busy": "2025-02-15T09:12:27.074757Z",
     "iopub.status.idle": "2025-02-15T09:12:27.366614Z",
     "shell.execute_reply": "2025-02-15T09:12:27.365786Z"
    },
    "papermill": {
     "duration": 0.299781,
     "end_time": "2025-02-15T09:12:27.368028",
     "exception": false,
     "start_time": "2025-02-15T09:12:27.068247",
     "status": "completed"
    },
    "tags": []
   },
   "outputs": [
    {
     "data": {
      "image/png": "[encoded data removed]",
      "text/plain": [
       "<Figure size 800x600 with 2 Axes>"
      ]
     },
     "metadata": {},
     "output_type": "display_data"
    }
   ],
   "source": [
    "conf_matrix = confusion_matrix(y_true,y_pred)\n",
    "plt.figure(figsize=(8,6))\n",
    "sns.heatmap(conf_matrix,annot=True,cmap=\"Blues\")\n",
    "plt.xlabel(\"Predicted\")\n",
    "plt.ylabel(\"Actual\")\n",
    "plt.title(\"Confusion Matrix\")\n",
    "plt.show()"
   ]
  },
  {
   "cell_type": "code",
   "execution_count": 16,
   "id": "5b60fe07",
   "metadata": {
    "execution": {
     "iopub.execute_input": "2025-02-15T09:12:27.381381Z",
     "iopub.status.busy": "2025-02-15T09:12:27.381155Z",
     "iopub.status.idle": "2025-02-15T09:12:27.747786Z",
     "shell.execute_reply": "2025-02-15T09:12:27.746890Z"
    },
    "papermill": {
     "duration": 0.374737,
     "end_time": "2025-02-15T09:12:27.749352",
     "exception": false,
     "start_time": "2025-02-15T09:12:27.374615",
     "status": "completed"
    },
    "tags": []
   },
   "outputs": [
    {
     "data": {
      "image/png": "[encoded data removed]",
      "text/plain": [
       "<Figure size 1200x500 with 2 Axes>"
      ]
     },
     "metadata": {},
     "output_type": "display_data"
    }
   ],
   "source": [
    "plt.figure(figsize=(12,5))\n",
    "\n",
    "plt.subplot(1,2,1)\n",
    "plt.plot(range(1,num_epochs+1),epoch_loss,marker=\"o\",linestyle='-',color='r',label=\"loss\")\n",
    "plt.xlabel(\"Epoch\")\n",
    "plt.ylabel(\"Loss\")\n",
    "plt.title(\"Epoch Vs. Loss\")\n",
    "plt.legend()\n",
    "\n",
    "plt.subplot(1,2,2)\n",
    "plt.plot(range(1,num_epochs+1),epoch_accuracy,marker=\"o\",linestyle='-',color='b',label=\"Macro F1 Score\")\n",
    "plt.xlabel(\"Epoch\")\n",
    "plt.ylabel(\"F1_score\")\n",
    "plt.title(\"Epoch Vs. F1_score\")\n",
    "plt.legend()\n",
    "\n",
    "plt.show()"
   ]
  },
  {
   "cell_type": "code",
   "execution_count": 17,
   "id": "33ac3f4a",
   "metadata": {
    "execution": {
     "iopub.execute_input": "2025-02-15T09:12:27.764282Z",
     "iopub.status.busy": "2025-02-15T09:12:27.764042Z",
     "iopub.status.idle": "2025-02-15T09:12:27.768044Z",
     "shell.execute_reply": "2025-02-15T09:12:27.767408Z"
    },
    "papermill": {
     "duration": 0.01268,
     "end_time": "2025-02-15T09:12:27.769187",
     "exception": false,
     "start_time": "2025-02-15T09:12:27.756507",
     "status": "completed"
    },
    "tags": []
   },
   "outputs": [],
   "source": [
    "def preprocess_images(image):\n",
    "    transform = transforms.Compose([\n",
    "    transforms.RandomResizedCrop((224,224)),\n",
    "    transforms.RandomHorizontalFlip(),\n",
    "    transforms.RandomRotation(10),\n",
    "    transforms.ToTensor(),\n",
    "    transforms.Normalize(mean=[0.485, 0.456, 0.406], std=[0.229,0.224,0.225])\n",
    "\n",
    "    ])\n",
    "\n",
    "    return transform(image).unsqueeze(0)"
   ]
  },
  {
   "cell_type": "code",
   "execution_count": 18,
   "id": "cb8b3466",
   "metadata": {
    "execution": {
     "iopub.execute_input": "2025-02-15T09:12:27.784447Z",
     "iopub.status.busy": "2025-02-15T09:12:27.784228Z",
     "iopub.status.idle": "2025-02-15T09:12:27.787245Z",
     "shell.execute_reply": "2025-02-15T09:12:27.786572Z"
    },
    "papermill": {
     "duration": 0.012532,
     "end_time": "2025-02-15T09:12:27.788756",
     "exception": false,
     "start_time": "2025-02-15T09:12:27.776224",
     "status": "completed"
    },
    "tags": []
   },
   "outputs": [],
   "source": [
    "CLASS_NAMES = [\"baso\",\"eosi\",\"lymp\",\"mono\",\"neut\"]"
   ]
  },
  {
   "cell_type": "code",
   "execution_count": 19,
   "id": "c8b748fe",
   "metadata": {
    "execution": {
     "iopub.execute_input": "2025-02-15T09:12:27.803809Z",
     "iopub.status.busy": "2025-02-15T09:12:27.803587Z",
     "iopub.status.idle": "2025-02-15T09:12:27.807400Z",
     "shell.execute_reply": "2025-02-15T09:12:27.806819Z"
    },
    "papermill": {
     "duration": 0.012479,
     "end_time": "2025-02-15T09:12:27.808604",
     "exception": false,
     "start_time": "2025-02-15T09:12:27.796125",
     "status": "completed"
    },
    "tags": []
   },
   "outputs": [],
   "source": [
    "def predict(image_path,model=model):\n",
    "    image = Image.open(image_path).convert(\"RGB\")\n",
    "    processed_images = preprocess_images(image)\n",
    "    device = torch.device(\"cuda\" if torch.cuda.is_available() else \"cpu\")\n",
    "    model = model.to(device)\n",
    "    \n",
    "    processed_images = processed_images.to(device)\n",
    "\n",
    "    with torch.no_grad():\n",
    "        output = model(processed_images)\n",
    "        _, predicted_class = torch.max(output,1)\n",
    "\n",
    "    return predicted_class\n",
    "    # return CLASS_NAMES[predicted_class.item()]"
   ]
  },
  {
   "cell_type": "code",
   "execution_count": 20,
   "id": "63bde292",
   "metadata": {
    "execution": {
     "iopub.execute_input": "2025-02-15T09:12:27.823649Z",
     "iopub.status.busy": "2025-02-15T09:12:27.823395Z",
     "iopub.status.idle": "2025-02-15T09:12:29.413762Z",
     "shell.execute_reply": "2025-02-15T09:12:29.413073Z"
    },
    "papermill": {
     "duration": 1.599568,
     "end_time": "2025-02-15T09:12:29.415400",
     "exception": false,
     "start_time": "2025-02-15T09:12:27.815832",
     "status": "completed"
    },
    "tags": []
   },
   "outputs": [],
   "source": [
    "# path = \"/kaggle/input/immunoquest1/Dataset/Dataset/test/img1.jpg\"\n",
    "# predict(path)\n",
    "result_ID = []\n",
    "result_label = []\n",
    "\n",
    "for i in range(1,51):\n",
    "    path = f\"/kaggle/input/immunoquest1/Dataset/Dataset/test/img{i}.jpg\"\n",
    "    result_ID.append(f\"img{i}\")\n",
    "    result_label.append(int(predict(path).item()))"
   ]
  },
  {
   "cell_type": "code",
   "execution_count": 21,
   "id": "6787d952",
   "metadata": {
    "execution": {
     "iopub.execute_input": "2025-02-15T09:12:29.431543Z",
     "iopub.status.busy": "2025-02-15T09:12:29.431276Z",
     "iopub.status.idle": "2025-02-15T09:12:29.435710Z",
     "shell.execute_reply": "2025-02-15T09:12:29.435013Z"
    },
    "papermill": {
     "duration": 0.013457,
     "end_time": "2025-02-15T09:12:29.436936",
     "exception": false,
     "start_time": "2025-02-15T09:12:29.423479",
     "status": "completed"
    },
    "tags": []
   },
   "outputs": [],
   "source": [
    "df = pd.DataFrame(result_ID,columns=['Id'])"
   ]
  },
  {
   "cell_type": "code",
   "execution_count": 22,
   "id": "3f91cb58",
   "metadata": {
    "execution": {
     "iopub.execute_input": "2025-02-15T09:12:29.451993Z",
     "iopub.status.busy": "2025-02-15T09:12:29.451752Z",
     "iopub.status.idle": "2025-02-15T09:12:29.459138Z",
     "shell.execute_reply": "2025-02-15T09:12:29.458583Z"
    },
    "papermill": {
     "duration": 0.016052,
     "end_time": "2025-02-15T09:12:29.460397",
     "exception": false,
     "start_time": "2025-02-15T09:12:29.444345",
     "status": "completed"
    },
    "tags": []
   },
   "outputs": [],
   "source": [
    "df['Label'] = result_label "
   ]
  },
  {
   "cell_type": "code",
   "execution_count": 23,
   "id": "cd3f8245",
   "metadata": {
    "execution": {
     "iopub.execute_input": "2025-02-15T09:12:29.475286Z",
     "iopub.status.busy": "2025-02-15T09:12:29.475057Z",
     "iopub.status.idle": "2025-02-15T09:12:29.483958Z",
     "shell.execute_reply": "2025-02-15T09:12:29.483097Z"
    },
    "papermill": {
     "duration": 0.017996,
     "end_time": "2025-02-15T09:12:29.485358",
     "exception": false,
     "start_time": "2025-02-15T09:12:29.467362",
     "status": "completed"
    },
    "tags": []
   },
   "outputs": [],
   "source": [
    "df.to_csv(\"submission.csv\",index=False)"
   ]
  },
  {
   "cell_type": "code",
   "execution_count": 24,
   "id": "5e93dbaa",
   "metadata": {
    "execution": {
     "iopub.execute_input": "2025-02-15T09:12:29.500095Z",
     "iopub.status.busy": "2025-02-15T09:12:29.499873Z",
     "iopub.status.idle": "2025-02-15T09:12:29.520066Z",
     "shell.execute_reply": "2025-02-15T09:12:29.519231Z"
    },
    "papermill": {
     "duration": 0.028887,
     "end_time": "2025-02-15T09:12:29.521337",
     "exception": false,
     "start_time": "2025-02-15T09:12:29.492450",
     "status": "completed"
    },
    "tags": []
   },
   "outputs": [
    {
     "data": {
      "text/html": [
       "<div>\n",
       "<style scoped>\n",
       "    .dataframe tbody tr th:only-of-type {\n",
       "        vertical-align: middle;\n",
       "    }\n",
       "\n",
       "    .dataframe tbody tr th {\n",
       "        vertical-align: top;\n",
       "    }\n",
       "\n",
       "    .dataframe thead th {\n",
       "        text-align: right;\n",
       "    }\n",
       "</style>\n",
       "<table border=\"1\" class=\"dataframe\">\n",
       "  <thead>\n",
       "    <tr style=\"text-align: right;\">\n",
       "      <th></th>\n",
       "      <th>Id</th>\n",
       "      <th>Label</th>\n",
       "    </tr>\n",
       "  </thead>\n",
       "  <tbody>\n",
       "    <tr>\n",
       "      <th>0</th>\n",
       "      <td>img1</td>\n",
       "      <td>4</td>\n",
       "    </tr>\n",
       "    <tr>\n",
       "      <th>1</th>\n",
       "      <td>img2</td>\n",
       "      <td>3</td>\n",
       "    </tr>\n",
       "    <tr>\n",
       "      <th>2</th>\n",
       "      <td>img3</td>\n",
       "      <td>4</td>\n",
       "    </tr>\n",
       "    <tr>\n",
       "      <th>3</th>\n",
       "      <td>img4</td>\n",
       "      <td>4</td>\n",
       "    </tr>\n",
       "    <tr>\n",
       "      <th>4</th>\n",
       "      <td>img5</td>\n",
       "      <td>4</td>\n",
       "    </tr>\n",
       "    <tr>\n",
       "      <th>5</th>\n",
       "      <td>img6</td>\n",
       "      <td>4</td>\n",
       "    </tr>\n",
       "    <tr>\n",
       "      <th>6</th>\n",
       "      <td>img7</td>\n",
       "      <td>4</td>\n",
       "    </tr>\n",
       "    <tr>\n",
       "      <th>7</th>\n",
       "      <td>img8</td>\n",
       "      <td>4</td>\n",
       "    </tr>\n",
       "    <tr>\n",
       "      <th>8</th>\n",
       "      <td>img9</td>\n",
       "      <td>4</td>\n",
       "    </tr>\n",
       "    <tr>\n",
       "      <th>9</th>\n",
       "      <td>img10</td>\n",
       "      <td>4</td>\n",
       "    </tr>\n",
       "    <tr>\n",
       "      <th>10</th>\n",
       "      <td>img11</td>\n",
       "      <td>4</td>\n",
       "    </tr>\n",
       "    <tr>\n",
       "      <th>11</th>\n",
       "      <td>img12</td>\n",
       "      <td>4</td>\n",
       "    </tr>\n",
       "    <tr>\n",
       "      <th>12</th>\n",
       "      <td>img13</td>\n",
       "      <td>4</td>\n",
       "    </tr>\n",
       "    <tr>\n",
       "      <th>13</th>\n",
       "      <td>img14</td>\n",
       "      <td>4</td>\n",
       "    </tr>\n",
       "    <tr>\n",
       "      <th>14</th>\n",
       "      <td>img15</td>\n",
       "      <td>4</td>\n",
       "    </tr>\n",
       "    <tr>\n",
       "      <th>15</th>\n",
       "      <td>img16</td>\n",
       "      <td>4</td>\n",
       "    </tr>\n",
       "    <tr>\n",
       "      <th>16</th>\n",
       "      <td>img17</td>\n",
       "      <td>4</td>\n",
       "    </tr>\n",
       "    <tr>\n",
       "      <th>17</th>\n",
       "      <td>img18</td>\n",
       "      <td>4</td>\n",
       "    </tr>\n",
       "    <tr>\n",
       "      <th>18</th>\n",
       "      <td>img19</td>\n",
       "      <td>4</td>\n",
       "    </tr>\n",
       "    <tr>\n",
       "      <th>19</th>\n",
       "      <td>img20</td>\n",
       "      <td>4</td>\n",
       "    </tr>\n",
       "    <tr>\n",
       "      <th>20</th>\n",
       "      <td>img21</td>\n",
       "      <td>4</td>\n",
       "    </tr>\n",
       "    <tr>\n",
       "      <th>21</th>\n",
       "      <td>img22</td>\n",
       "      <td>2</td>\n",
       "    </tr>\n",
       "    <tr>\n",
       "      <th>22</th>\n",
       "      <td>img23</td>\n",
       "      <td>4</td>\n",
       "    </tr>\n",
       "    <tr>\n",
       "      <th>23</th>\n",
       "      <td>img24</td>\n",
       "      <td>4</td>\n",
       "    </tr>\n",
       "    <tr>\n",
       "      <th>24</th>\n",
       "      <td>img25</td>\n",
       "      <td>4</td>\n",
       "    </tr>\n",
       "    <tr>\n",
       "      <th>25</th>\n",
       "      <td>img26</td>\n",
       "      <td>4</td>\n",
       "    </tr>\n",
       "    <tr>\n",
       "      <th>26</th>\n",
       "      <td>img27</td>\n",
       "      <td>4</td>\n",
       "    </tr>\n",
       "    <tr>\n",
       "      <th>27</th>\n",
       "      <td>img28</td>\n",
       "      <td>4</td>\n",
       "    </tr>\n",
       "    <tr>\n",
       "      <th>28</th>\n",
       "      <td>img29</td>\n",
       "      <td>4</td>\n",
       "    </tr>\n",
       "    <tr>\n",
       "      <th>29</th>\n",
       "      <td>img30</td>\n",
       "      <td>4</td>\n",
       "    </tr>\n",
       "    <tr>\n",
       "      <th>30</th>\n",
       "      <td>img31</td>\n",
       "      <td>4</td>\n",
       "    </tr>\n",
       "    <tr>\n",
       "      <th>31</th>\n",
       "      <td>img32</td>\n",
       "      <td>4</td>\n",
       "    </tr>\n",
       "    <tr>\n",
       "      <th>32</th>\n",
       "      <td>img33</td>\n",
       "      <td>4</td>\n",
       "    </tr>\n",
       "    <tr>\n",
       "      <th>33</th>\n",
       "      <td>img34</td>\n",
       "      <td>4</td>\n",
       "    </tr>\n",
       "    <tr>\n",
       "      <th>34</th>\n",
       "      <td>img35</td>\n",
       "      <td>4</td>\n",
       "    </tr>\n",
       "    <tr>\n",
       "      <th>35</th>\n",
       "      <td>img36</td>\n",
       "      <td>4</td>\n",
       "    </tr>\n",
       "    <tr>\n",
       "      <th>36</th>\n",
       "      <td>img37</td>\n",
       "      <td>1</td>\n",
       "    </tr>\n",
       "    <tr>\n",
       "      <th>37</th>\n",
       "      <td>img38</td>\n",
       "      <td>4</td>\n",
       "    </tr>\n",
       "    <tr>\n",
       "      <th>38</th>\n",
       "      <td>img39</td>\n",
       "      <td>4</td>\n",
       "    </tr>\n",
       "    <tr>\n",
       "      <th>39</th>\n",
       "      <td>img40</td>\n",
       "      <td>4</td>\n",
       "    </tr>\n",
       "    <tr>\n",
       "      <th>40</th>\n",
       "      <td>img41</td>\n",
       "      <td>4</td>\n",
       "    </tr>\n",
       "    <tr>\n",
       "      <th>41</th>\n",
       "      <td>img42</td>\n",
       "      <td>4</td>\n",
       "    </tr>\n",
       "    <tr>\n",
       "      <th>42</th>\n",
       "      <td>img43</td>\n",
       "      <td>4</td>\n",
       "    </tr>\n",
       "    <tr>\n",
       "      <th>43</th>\n",
       "      <td>img44</td>\n",
       "      <td>4</td>\n",
       "    </tr>\n",
       "    <tr>\n",
       "      <th>44</th>\n",
       "      <td>img45</td>\n",
       "      <td>4</td>\n",
       "    </tr>\n",
       "    <tr>\n",
       "      <th>45</th>\n",
       "      <td>img46</td>\n",
       "      <td>4</td>\n",
       "    </tr>\n",
       "    <tr>\n",
       "      <th>46</th>\n",
       "      <td>img47</td>\n",
       "      <td>4</td>\n",
       "    </tr>\n",
       "    <tr>\n",
       "      <th>47</th>\n",
       "      <td>img48</td>\n",
       "      <td>4</td>\n",
       "    </tr>\n",
       "    <tr>\n",
       "      <th>48</th>\n",
       "      <td>img49</td>\n",
       "      <td>4</td>\n",
       "    </tr>\n",
       "    <tr>\n",
       "      <th>49</th>\n",
       "      <td>img50</td>\n",
       "      <td>4</td>\n",
       "    </tr>\n",
       "  </tbody>\n",
       "</table>\n",
       "</div>"
      ],
      "text/plain": [
       "       Id  Label\n",
       "0    img1      4\n",
       "1    img2      3\n",
       "2    img3      4\n",
       "3    img4      4\n",
       "4    img5      4\n",
       "5    img6      4\n",
       "6    img7      4\n",
       "7    img8      4\n",
       "8    img9      4\n",
       "9   img10      4\n",
       "10  img11      4\n",
       "11  img12      4\n",
       "12  img13      4\n",
       "13  img14      4\n",
       "14  img15      4\n",
       "15  img16      4\n",
       "16  img17      4\n",
       "17  img18      4\n",
       "18  img19      4\n",
       "19  img20      4\n",
       "20  img21      4\n",
       "21  img22      2\n",
       "22  img23      4\n",
       "23  img24      4\n",
       "24  img25      4\n",
       "25  img26      4\n",
       "26  img27      4\n",
       "27  img28      4\n",
       "28  img29      4\n",
       "29  img30      4\n",
       "30  img31      4\n",
       "31  img32      4\n",
       "32  img33      4\n",
       "33  img34      4\n",
       "34  img35      4\n",
       "35  img36      4\n",
       "36  img37      1\n",
       "37  img38      4\n",
       "38  img39      4\n",
       "39  img40      4\n",
       "40  img41      4\n",
       "41  img42      4\n",
       "42  img43      4\n",
       "43  img44      4\n",
       "44  img45      4\n",
       "45  img46      4\n",
       "46  img47      4\n",
       "47  img48      4\n",
       "48  img49      4\n",
       "49  img50      4"
      ]
     },
     "execution_count": 24,
     "metadata": {},
     "output_type": "execute_result"
    }
   ],
   "source": [
    "pd.read_csv(\"submission.csv\")"
   ]
  },
  {
   "cell_type": "code",
   "execution_count": null,
   "id": "240a5324",
   "metadata": {
    "papermill": {
     "duration": 0.007198,
     "end_time": "2025-02-15T09:12:29.535864",
     "exception": false,
     "start_time": "2025-02-15T09:12:29.528666",
     "status": "completed"
    },
    "tags": []
   },
   "outputs": [],
   "source": []
  }
 ],
 "metadata": {
  "kaggle": {
   "accelerator": "nvidiaTeslaT4",
   "dataSources": [
    {
     "databundleVersionId": 11069348,
     "sourceId": 92846,
     "sourceType": "competition"
    }
   ],
   "isGpuEnabled": true,
   "isInternetEnabled": true,
   "language": "python",
   "sourceType": "notebook"
  },
  "kernelspec": {
   "display_name": "Python 3",
   "language": "python",
   "name": "python3"
  },
  "language_info": {
   "codemirror_mode": {
    "name": "ipython",
    "version": 3
   },
   "file_extension": ".py",
   "mimetype": "text/x-python",
   "name": "python",
   "nbconvert_exporter": "python",
   "pygments_lexer": "ipython3",
   "version": "3.10.12"
  },
  "papermill": {
   "default_parameters": {},
   "duration": 530.831613,
   "end_time": "2025-02-15T09:12:31.465462",
   "environment_variables": {},
   "exception": null,
   "input_path": "__notebook__.ipynb",
   "output_path": "__notebook__.ipynb",
   "parameters": {},
   "start_time": "2025-02-15T09:03:40.633849",
   "version": "2.6.0"
  }
 },
 "nbformat": 4,
 "nbformat_minor": 5
}
